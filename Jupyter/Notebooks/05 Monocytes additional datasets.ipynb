{
 "cells": [
  {
   "cell_type": "code",
   "execution_count": 4,
   "metadata": {},
   "outputs": [],
   "source": [
    "import pandas as pd\n",
    "import pybedtools\n",
    "import numpy as np\n",
    "import wget\n",
    "import os"
   ]
  },
  {
   "cell_type": "markdown",
   "metadata": {},
   "source": [
    "# DATASETS"
   ]
  },
  {
   "cell_type": "markdown",
   "metadata": {},
   "source": [
    "### http://www.roadmapepigenomics.org/"
   ]
  },
  {
   "cell_type": "code",
   "execution_count": null,
   "metadata": {},
   "outputs": [],
   "source": [
    "# CD14, Primary Cells -- ChIP-Input\n",
    "# CD14, Primary Cells -- H3K27me3\n",
    "# CD14, Primary Cells -- H3K36me3\n",
    "# CD14, Primary Cells -- H3K4me1\n",
    "# CD14, Primary Cells -- H3K4me3\n",
    "# CD14, Primary Cells -- H3K9me3\n",
    "# CD14, Primary Cells -- H3K27ac\n",
    "# CD14, Primary Cells -- DNaseI"
   ]
  },
  {
   "cell_type": "code",
   "execution_count": null,
   "metadata": {},
   "outputs": [],
   "source": [
    "# HG19\n",
    "# 2012-2015"
   ]
  },
  {
   "cell_type": "markdown",
   "metadata": {},
   "source": [
    "### https://www.encodeproject.org/"
   ]
  },
  {
   "cell_type": "code",
   "execution_count": null,
   "metadata": {},
   "outputs": [],
   "source": [
    "# Mint-ChIP-seq 24\n",
    "# Control Mint-ChIP-seq 7\n",
    "# DNase-seq 5\n",
    "# Histone ChIP-seq 5\n",
    "# Control ChIP-seq 2\n",
    "# polyA plus RNA-seq 2\n",
    "# CAGE 1\n",
    "# WGBS 1\n",
    "# polyA minus RNA-seq 1\n",
    "# small RNA-seq 1"
   ]
  },
  {
   "cell_type": "markdown",
   "metadata": {},
   "source": [
    "### https://www.cell.com/cell/fulltext/S0092-8674(16)31322-8"
   ]
  },
  {
   "cell_type": "code",
   "execution_count": 4,
   "metadata": {},
   "outputs": [],
   "source": [
    "# Hi-C GRCH37!!!!"
   ]
  },
  {
   "cell_type": "markdown",
   "metadata": {},
   "source": [
    "### http://dcc.blueprint-epigenome.eu/"
   ]
  },
  {
   "cell_type": "code",
   "execution_count": null,
   "metadata": {},
   "outputs": [],
   "source": [
    "# H3K27ac 144\n",
    "# H3K4me1 112\n",
    "# H3K4me3 112\n",
    "# Bisulfite-Seq 96\n",
    "# RNA-Seq 92\n",
    "# H3K27me3 88\n",
    "# H3K9me3 64\n",
    "# H3K36me3 12\n",
    "# DNase-Seq 8\n",
    "# ChIP Input 2"
   ]
  },
  {
   "cell_type": "markdown",
   "metadata": {},
   "source": [
    "## Example:"
   ]
  },
  {
   "cell_type": "markdown",
   "metadata": {},
   "source": [
    "### https://epigeneticsandchromatin.biomedcentral.com/articles/10.1186/s13072-019-0279-4"
   ]
  },
  {
   "cell_type": "code",
   "execution_count": null,
   "metadata": {},
   "outputs": [],
   "source": [
    "# DNA methylation\n",
    "# Blueprint RNA-seq data\n",
    "# Blueprint ChIP-seq \n",
    "# Blueprint whole-genome bisulfite sequencing (WGBS)\n",
    "# Blueprint DNAseI hypersensitive sites"
   ]
  },
  {
   "cell_type": "markdown",
   "metadata": {},
   "source": [
    "# Data download"
   ]
  },
  {
   "cell_type": "code",
   "execution_count": 10,
   "metadata": {},
   "outputs": [],
   "source": [
    "names_narrowPeak='chrom chromStart chromEnd name score strand signalValue pValue qValue peak'.split()"
   ]
  },
  {
   "cell_type": "markdown",
   "metadata": {},
   "source": [
    "## Roadmap"
   ]
  },
  {
   "cell_type": "markdown",
   "metadata": {},
   "source": [
    "#### Roadmap ignored because GRCh37"
   ]
  },
  {
   "cell_type": "code",
   "execution_count": 34,
   "metadata": {},
   "outputs": [],
   "source": [
    "# basedir='/nfs/research1/zerbino/jhidalgo/inteql_GTEX_v8/data/original-data/monocyte_data/'\n",
    "# road_folder=basedir+'Roadmap/'"
   ]
  },
  {
   "cell_type": "code",
   "execution_count": 29,
   "metadata": {},
   "outputs": [],
   "source": [
    "# roadmap_files=['E124-DNase.macs2.narrowPeak.gz','E124-H2A.Z.narrowPeak.gz','E124-H3K4me1.narrowPeak.gz','E124-H3K4me2.narrowPeak.gz','E124-H3K4me3.narrowPeak.gz','E124-H3K9ac.narrowPeak.gz','E124-H3K9me3.narrowPeak.gz','E124-H3K27ac.narrowPeak.gz','E124-H3K27me3.narrowPeak.gz','E124-H3K36me3.narrowPeak.gz','E124-H3K79me2.narrowPeak.gz','E124-H4K20me1.narrowPeak.gz']"
   ]
  },
  {
   "cell_type": "code",
   "execution_count": 33,
   "metadata": {},
   "outputs": [],
   "source": [
    "# if not os.path.exists(road_folder):\n",
    "#     os.mkdir(road_folder)"
   ]
  },
  {
   "cell_type": "code",
   "execution_count": 31,
   "metadata": {},
   "outputs": [],
   "source": [
    "# for i in roadmap_files:\n",
    "#     wget.download('https://egg2.wustl.edu/roadmap/data/byFileType/peaks/consolidated/narrowPeak/'+i,road_folder+i)"
   ]
  },
  {
   "cell_type": "code",
   "execution_count": 118,
   "metadata": {},
   "outputs": [],
   "source": [
    "# data={}\n",
    "# for file in roadmap_files:\n",
    "#     exp=file.strip('E124-').rstrip('.narrowPeak.gz').split('.')[0]\n",
    "#     filedata=pd.read_csv(road_folder+file,sep='\\t',compression='gzip',header=None,names=names_narrowPeak,usecols=['chrom','chromStart','chromEnd','signalValue'])\n",
    "#     data[exp]=filedata.rename(columns={'signalValue':exp})"
   ]
  },
  {
   "cell_type": "code",
   "execution_count": 123,
   "metadata": {},
   "outputs": [
    {
     "data": {
      "text/plain": [
       "dict_keys(['DNase', 'H2A', 'H3K4me1', 'H3K4me2', 'H3K4me3', 'H3K9ac', 'H3K9me3', 'H3K27ac', 'H3K27me3', 'H3K36me3', 'H3K79me2', 'H4K20me1'])"
      ]
     },
     "execution_count": 123,
     "metadata": {},
     "output_type": "execute_result"
    }
   ],
   "source": [
    "# data.keys()"
   ]
  },
  {
   "cell_type": "markdown",
   "metadata": {},
   "source": [
    "# ENCODE"
   ]
  },
  {
   "cell_type": "markdown",
   "metadata": {},
   "source": [
    "## DNase-seq"
   ]
  },
  {
   "cell_type": "code",
   "execution_count": 5,
   "metadata": {},
   "outputs": [],
   "source": [
    "folder='/nfs/research1/zerbino/jhidalgo/inteql_GTEX_v8/data/original-data/monocyte_data/ENCODE/DNAse-seq/'"
   ]
  },
  {
   "cell_type": "code",
   "execution_count": 6,
   "metadata": {},
   "outputs": [],
   "source": [
    "dnase_files=[x for x in os.listdir(folder) if x.startswith('ENC')]"
   ]
  },
  {
   "cell_type": "code",
   "execution_count": 7,
   "metadata": {},
   "outputs": [],
   "source": [
    "names_bed='chrom chromStart chromEnd name score strand thickStart thickEnd itemRgb blockCount'.split()"
   ]
  },
  {
   "cell_type": "code",
   "execution_count": 12,
   "metadata": {},
   "outputs": [],
   "source": [
    "dnase_data={}\n",
    "for file in dnase_files:\n",
    "    dnase_data[file]=pd.read_csv(folder+file,sep='\\t',header=None,names=names_narrowPeak,usecols=[0,1,2,6])"
   ]
  },
  {
   "cell_type": "markdown",
   "metadata": {},
   "source": [
    "> todo simplify to loop"
   ]
  },
  {
   "cell_type": "code",
   "execution_count": 15,
   "metadata": {},
   "outputs": [],
   "source": [
    "data_0=pybedtools.BedTool.from_dataframe(dnase_data[list(dnase_data.keys())[0]])"
   ]
  },
  {
   "cell_type": "code",
   "execution_count": 16,
   "metadata": {},
   "outputs": [],
   "source": [
    "data_1=pybedtools.BedTool.from_dataframe(dnase_data[list(dnase_data.keys())[1]])"
   ]
  },
  {
   "cell_type": "code",
   "execution_count": 17,
   "metadata": {},
   "outputs": [],
   "source": [
    "data_2=pybedtools.BedTool.from_dataframe(dnase_data[list(dnase_data.keys())[2]])"
   ]
  },
  {
   "cell_type": "code",
   "execution_count": 18,
   "metadata": {},
   "outputs": [],
   "source": [
    "data_3=pybedtools.BedTool.from_dataframe(dnase_data[list(dnase_data.keys())[3]])"
   ]
  },
  {
   "cell_type": "code",
   "execution_count": 19,
   "metadata": {},
   "outputs": [],
   "source": [
    "data_4=pybedtools.BedTool.from_dataframe(dnase_data[list(dnase_data.keys())[4]])"
   ]
  },
  {
   "cell_type": "code",
   "execution_count": 20,
   "metadata": {},
   "outputs": [],
   "source": [
    "data_5=pybedtools.BedTool.from_dataframe(dnase_data[list(dnase_data.keys())[5]])"
   ]
  },
  {
   "cell_type": "code",
   "execution_count": 35,
   "metadata": {
    "scrolled": true
   },
   "outputs": [
    {
     "name": "stderr",
     "output_type": "stream",
     "text": [
      "/homes/jhidalgo/.local/lib/python3.8/subprocess.py:849: RuntimeWarning: line buffering (buffering=1) isn't supported in binary mode, the default buffer size will be used\n",
      "  self.stderr = io.open(errread, 'rb', bufsize)\n"
     ]
    }
   ],
   "source": [
    "dnase_intersection=pybedtools.BedTool().multi_intersect(i=[data_0.fn,data_1.fn,data_2.fn,data_3.fn,data_4.fn,data_5.fn]).to_dataframe(names='chr start end count intersections 0 1 2 3 4 5'.split())"
   ]
  },
  {
   "cell_type": "code",
   "execution_count": 46,
   "metadata": {},
   "outputs": [
    {
     "data": {
      "text/html": [
       "<div>\n",
       "<style scoped>\n",
       "    .dataframe tbody tr th:only-of-type {\n",
       "        vertical-align: middle;\n",
       "    }\n",
       "\n",
       "    .dataframe tbody tr th {\n",
       "        vertical-align: top;\n",
       "    }\n",
       "\n",
       "    .dataframe thead th {\n",
       "        text-align: right;\n",
       "    }\n",
       "</style>\n",
       "<table border=\"1\" class=\"dataframe\">\n",
       "  <thead>\n",
       "    <tr style=\"text-align: right;\">\n",
       "      <th></th>\n",
       "      <th>chr</th>\n",
       "      <th>start</th>\n",
       "      <th>end</th>\n",
       "      <th>count</th>\n",
       "      <th>intersections</th>\n",
       "      <th>0</th>\n",
       "      <th>1</th>\n",
       "      <th>2</th>\n",
       "      <th>3</th>\n",
       "      <th>4</th>\n",
       "      <th>5</th>\n",
       "    </tr>\n",
       "  </thead>\n",
       "  <tbody>\n",
       "    <tr>\n",
       "      <th>0</th>\n",
       "      <td>chr1</td>\n",
       "      <td>128619</td>\n",
       "      <td>128769</td>\n",
       "      <td>1</td>\n",
       "      <td>2</td>\n",
       "      <td>0</td>\n",
       "      <td>1</td>\n",
       "      <td>0</td>\n",
       "      <td>0</td>\n",
       "      <td>0</td>\n",
       "      <td>0</td>\n",
       "    </tr>\n",
       "    <tr>\n",
       "      <th>1</th>\n",
       "      <td>chr1</td>\n",
       "      <td>180756</td>\n",
       "      <td>180906</td>\n",
       "      <td>1</td>\n",
       "      <td>2</td>\n",
       "      <td>0</td>\n",
       "      <td>1</td>\n",
       "      <td>0</td>\n",
       "      <td>0</td>\n",
       "      <td>0</td>\n",
       "      <td>0</td>\n",
       "    </tr>\n",
       "    <tr>\n",
       "      <th>2</th>\n",
       "      <td>chr1</td>\n",
       "      <td>181395</td>\n",
       "      <td>181415</td>\n",
       "      <td>3</td>\n",
       "      <td>1,3,5</td>\n",
       "      <td>1</td>\n",
       "      <td>0</td>\n",
       "      <td>1</td>\n",
       "      <td>0</td>\n",
       "      <td>1</td>\n",
       "      <td>0</td>\n",
       "    </tr>\n",
       "    <tr>\n",
       "      <th>3</th>\n",
       "      <td>chr1</td>\n",
       "      <td>181415</td>\n",
       "      <td>181545</td>\n",
       "      <td>5</td>\n",
       "      <td>1,2,3,5,6</td>\n",
       "      <td>1</td>\n",
       "      <td>1</td>\n",
       "      <td>1</td>\n",
       "      <td>0</td>\n",
       "      <td>1</td>\n",
       "      <td>1</td>\n",
       "    </tr>\n",
       "    <tr>\n",
       "      <th>4</th>\n",
       "      <td>chr1</td>\n",
       "      <td>181545</td>\n",
       "      <td>181565</td>\n",
       "      <td>2</td>\n",
       "      <td>2,6</td>\n",
       "      <td>0</td>\n",
       "      <td>1</td>\n",
       "      <td>0</td>\n",
       "      <td>0</td>\n",
       "      <td>0</td>\n",
       "      <td>1</td>\n",
       "    </tr>\n",
       "    <tr>\n",
       "      <th>...</th>\n",
       "      <td>...</td>\n",
       "      <td>...</td>\n",
       "      <td>...</td>\n",
       "      <td>...</td>\n",
       "      <td>...</td>\n",
       "      <td>...</td>\n",
       "      <td>...</td>\n",
       "      <td>...</td>\n",
       "      <td>...</td>\n",
       "      <td>...</td>\n",
       "      <td>...</td>\n",
       "    </tr>\n",
       "    <tr>\n",
       "      <th>799081</th>\n",
       "      <td>chrY</td>\n",
       "      <td>56850055</td>\n",
       "      <td>56850205</td>\n",
       "      <td>1</td>\n",
       "      <td>1</td>\n",
       "      <td>1</td>\n",
       "      <td>0</td>\n",
       "      <td>0</td>\n",
       "      <td>0</td>\n",
       "      <td>0</td>\n",
       "      <td>0</td>\n",
       "    </tr>\n",
       "    <tr>\n",
       "      <th>799082</th>\n",
       "      <td>chrY</td>\n",
       "      <td>56850535</td>\n",
       "      <td>56850685</td>\n",
       "      <td>1</td>\n",
       "      <td>2</td>\n",
       "      <td>0</td>\n",
       "      <td>1</td>\n",
       "      <td>0</td>\n",
       "      <td>0</td>\n",
       "      <td>0</td>\n",
       "      <td>0</td>\n",
       "    </tr>\n",
       "    <tr>\n",
       "      <th>799083</th>\n",
       "      <td>chrY</td>\n",
       "      <td>56851395</td>\n",
       "      <td>56851545</td>\n",
       "      <td>1</td>\n",
       "      <td>2</td>\n",
       "      <td>0</td>\n",
       "      <td>1</td>\n",
       "      <td>0</td>\n",
       "      <td>0</td>\n",
       "      <td>0</td>\n",
       "      <td>0</td>\n",
       "    </tr>\n",
       "    <tr>\n",
       "      <th>799084</th>\n",
       "      <td>chrY</td>\n",
       "      <td>56870895</td>\n",
       "      <td>56871045</td>\n",
       "      <td>1</td>\n",
       "      <td>2</td>\n",
       "      <td>0</td>\n",
       "      <td>1</td>\n",
       "      <td>0</td>\n",
       "      <td>0</td>\n",
       "      <td>0</td>\n",
       "      <td>0</td>\n",
       "    </tr>\n",
       "    <tr>\n",
       "      <th>799085</th>\n",
       "      <td>chrY</td>\n",
       "      <td>56871445</td>\n",
       "      <td>56871595</td>\n",
       "      <td>1</td>\n",
       "      <td>2</td>\n",
       "      <td>0</td>\n",
       "      <td>1</td>\n",
       "      <td>0</td>\n",
       "      <td>0</td>\n",
       "      <td>0</td>\n",
       "      <td>0</td>\n",
       "    </tr>\n",
       "  </tbody>\n",
       "</table>\n",
       "<p>799086 rows × 11 columns</p>\n",
       "</div>"
      ],
      "text/plain": [
       "         chr     start       end  count intersections  0  1  2  3  4  5\n",
       "0       chr1    128619    128769      1             2  0  1  0  0  0  0\n",
       "1       chr1    180756    180906      1             2  0  1  0  0  0  0\n",
       "2       chr1    181395    181415      3         1,3,5  1  0  1  0  1  0\n",
       "3       chr1    181415    181545      5     1,2,3,5,6  1  1  1  0  1  1\n",
       "4       chr1    181545    181565      2           2,6  0  1  0  0  0  1\n",
       "...      ...       ...       ...    ...           ... .. .. .. .. .. ..\n",
       "799081  chrY  56850055  56850205      1             1  1  0  0  0  0  0\n",
       "799082  chrY  56850535  56850685      1             2  0  1  0  0  0  0\n",
       "799083  chrY  56851395  56851545      1             2  0  1  0  0  0  0\n",
       "799084  chrY  56870895  56871045      1             2  0  1  0  0  0  0\n",
       "799085  chrY  56871445  56871595      1             2  0  1  0  0  0  0\n",
       "\n",
       "[799086 rows x 11 columns]"
      ]
     },
     "execution_count": 46,
     "metadata": {},
     "output_type": "execute_result"
    }
   ],
   "source": [
    "dnase_intersection"
   ]
  },
  {
   "cell_type": "code",
   "execution_count": 49,
   "metadata": {},
   "outputs": [],
   "source": [
    "dnase_intersection[['chr','start','end','count']].to_csv('/nfs/research1/zerbino/jhidalgo/inteql_GTEX_v8/data/processed_data/monocyte-ML-input/dnase_seq.bed',index=False,sep='\\t')"
   ]
  },
  {
   "cell_type": "markdown",
   "metadata": {},
   "source": [
    "# CAGE"
   ]
  },
  {
   "cell_type": "code",
   "execution_count": 160,
   "metadata": {},
   "outputs": [],
   "source": [
    "cage_rep1=pybedtools.BedTool.from_dataframe(pd.read_csv('https://www.encodeproject.org/files/ENCFF695FNC/@@download/ENCFF695FNC.bed.gz',sep='\\t',header=None,names='chr start end name 2 score strand 4 5 6 7'.split())['chr start end name strand score'.split()])\n",
    "cage_rep2=pybedtools.BedTool.from_dataframe(pd.read_csv('https://www.encodeproject.org/files/ENCFF483BGB/@@download/ENCFF483BGB.bed.gz',sep='\\t',header=None,names='chr start end name 2 strand score 4 5 6 7'.split())['chr start end name strand score'.split()])\n"
   ]
  },
  {
   "cell_type": "code",
   "execution_count": 186,
   "metadata": {},
   "outputs": [
    {
     "name": "stderr",
     "output_type": "stream",
     "text": [
      "/homes/jhidalgo/.local/lib/python3.8/subprocess.py:849: RuntimeWarning: line buffering (buffering=1) isn't supported in binary mode, the default buffer size will be used\n",
      "  self.stderr = io.open(errread, 'rb', bufsize)\n"
     ]
    }
   ],
   "source": [
    "cage=cage_rep1.intersect(cage_rep2,wa=True,wb=True,loj=True).to_dataframe()"
   ]
  },
  {
   "cell_type": "code",
   "execution_count": 205,
   "metadata": {},
   "outputs": [],
   "source": [
    "cage['cage']=cage[['score','blockStarts']].replace('.',0).astype('float').mean(axis=1)"
   ]
  },
  {
   "cell_type": "code",
   "execution_count": 207,
   "metadata": {
    "scrolled": true
   },
   "outputs": [],
   "source": [
    "cage=cage[['chrom','start','end','cage']]"
   ]
  },
  {
   "cell_type": "code",
   "execution_count": 208,
   "metadata": {
    "scrolled": false
   },
   "outputs": [
    {
     "data": {
      "text/html": [
       "<div>\n",
       "<style scoped>\n",
       "    .dataframe tbody tr th:only-of-type {\n",
       "        vertical-align: middle;\n",
       "    }\n",
       "\n",
       "    .dataframe tbody tr th {\n",
       "        vertical-align: top;\n",
       "    }\n",
       "\n",
       "    .dataframe thead th {\n",
       "        text-align: right;\n",
       "    }\n",
       "</style>\n",
       "<table border=\"1\" class=\"dataframe\">\n",
       "  <thead>\n",
       "    <tr style=\"text-align: right;\">\n",
       "      <th></th>\n",
       "      <th>chrom</th>\n",
       "      <th>start</th>\n",
       "      <th>end</th>\n",
       "      <th>cage</th>\n",
       "    </tr>\n",
       "  </thead>\n",
       "  <tbody>\n",
       "    <tr>\n",
       "      <th>0</th>\n",
       "      <td>chr1</td>\n",
       "      <td>633988</td>\n",
       "      <td>634014</td>\n",
       "      <td>19.0</td>\n",
       "    </tr>\n",
       "    <tr>\n",
       "      <th>1</th>\n",
       "      <td>chr1</td>\n",
       "      <td>634046</td>\n",
       "      <td>634052</td>\n",
       "      <td>1027.5</td>\n",
       "    </tr>\n",
       "    <tr>\n",
       "      <th>2</th>\n",
       "      <td>chr1</td>\n",
       "      <td>827505</td>\n",
       "      <td>827553</td>\n",
       "      <td>51.5</td>\n",
       "    </tr>\n",
       "    <tr>\n",
       "      <th>3</th>\n",
       "      <td>chr1</td>\n",
       "      <td>959245</td>\n",
       "      <td>959278</td>\n",
       "      <td>30.5</td>\n",
       "    </tr>\n",
       "    <tr>\n",
       "      <th>4</th>\n",
       "      <td>chr1</td>\n",
       "      <td>1013485</td>\n",
       "      <td>1013532</td>\n",
       "      <td>8001.5</td>\n",
       "    </tr>\n",
       "    <tr>\n",
       "      <th>...</th>\n",
       "      <td>...</td>\n",
       "      <td>...</td>\n",
       "      <td>...</td>\n",
       "      <td>...</td>\n",
       "    </tr>\n",
       "    <tr>\n",
       "      <th>11887</th>\n",
       "      <td>chrX</td>\n",
       "      <td>155027035</td>\n",
       "      <td>155027052</td>\n",
       "      <td>1066.0</td>\n",
       "    </tr>\n",
       "    <tr>\n",
       "      <th>11888</th>\n",
       "      <td>chrX</td>\n",
       "      <td>155071092</td>\n",
       "      <td>155071104</td>\n",
       "      <td>20.5</td>\n",
       "    </tr>\n",
       "    <tr>\n",
       "      <th>11889</th>\n",
       "      <td>chrX</td>\n",
       "      <td>155334615</td>\n",
       "      <td>155334657</td>\n",
       "      <td>18.5</td>\n",
       "    </tr>\n",
       "    <tr>\n",
       "      <th>11890</th>\n",
       "      <td>chrX</td>\n",
       "      <td>155612894</td>\n",
       "      <td>155612969</td>\n",
       "      <td>844.0</td>\n",
       "    </tr>\n",
       "    <tr>\n",
       "      <th>11891</th>\n",
       "      <td>chrX</td>\n",
       "      <td>155881331</td>\n",
       "      <td>155881382</td>\n",
       "      <td>484.5</td>\n",
       "    </tr>\n",
       "  </tbody>\n",
       "</table>\n",
       "<p>11892 rows × 4 columns</p>\n",
       "</div>"
      ],
      "text/plain": [
       "      chrom      start        end    cage\n",
       "0      chr1     633988     634014    19.0\n",
       "1      chr1     634046     634052  1027.5\n",
       "2      chr1     827505     827553    51.5\n",
       "3      chr1     959245     959278    30.5\n",
       "4      chr1    1013485    1013532  8001.5\n",
       "...     ...        ...        ...     ...\n",
       "11887  chrX  155027035  155027052  1066.0\n",
       "11888  chrX  155071092  155071104    20.5\n",
       "11889  chrX  155334615  155334657    18.5\n",
       "11890  chrX  155612894  155612969   844.0\n",
       "11891  chrX  155881331  155881382   484.5\n",
       "\n",
       "[11892 rows x 4 columns]"
      ]
     },
     "execution_count": 208,
     "metadata": {},
     "output_type": "execute_result"
    }
   ],
   "source": [
    "cage"
   ]
  },
  {
   "cell_type": "code",
   "execution_count": 209,
   "metadata": {},
   "outputs": [],
   "source": [
    "cage.to_csv('/nfs/research1/zerbino/jhidalgo/inteql_GTEX_v8/data/processed_data/monocyte-ML-input/cage.bed',index=False,sep='\\t')"
   ]
  },
  {
   "cell_type": "markdown",
   "metadata": {},
   "source": [
    "# WGBS"
   ]
  },
  {
   "cell_type": "markdown",
   "metadata": {},
   "source": [
    "### Separately downloaded:\n",
    "- ENCFF309GZI  for CHH meth\n",
    "- ENCFF324TYC for CHG meth\n",
    "- ENCFF451WIY for CpG meth"
   ]
  },
  {
   "cell_type": "code",
   "execution_count": 212,
   "metadata": {
    "collapsed": true
   },
   "outputs": [
    {
     "data": {
      "text/plain": [
       "'/nfs/research1/zerbino/jhidalgo/inteql_GTEX_v8/data/original-data/monocyte_data/ENCODE/WGBS/CpG_values.bed'"
      ]
     },
     "execution_count": 212,
     "metadata": {},
     "output_type": "execute_result"
    }
   ],
   "source": [
    "'/nfs/research1/zerbino/jhidalgo/inteql_GTEX_v8/data/original-data/monocyte_data/ENCODE/WGBS/CHG_values.bed'\n",
    "'/nfs/research1/zerbino/jhidalgo/inteql_GTEX_v8/data/original-data/monocyte_data/ENCODE/WGBS/CHH_values.bed'\n",
    "'/nfs/research1/zerbino/jhidalgo/inteql_GTEX_v8/data/original-data/monocyte_data/ENCODE/WGBS/CpG_values.bed'"
   ]
  },
  {
   "cell_type": "markdown",
   "metadata": {},
   "source": [
    "# Histone ChIP-seq"
   ]
  },
  {
   "cell_type": "markdown",
   "metadata": {},
   "source": [
    "### Small function to attribute a variable number of column names depending on the number of experimental sets to merge:"
   ]
  },
  {
   "cell_type": "code",
   "execution_count": 352,
   "metadata": {},
   "outputs": [],
   "source": [
    "def naming(top):\n",
    "    name=['chrom','start','end','freq','freq-all']\n",
    "    counter=1\n",
    "    for x in range(0,top):\n",
    "        name.append('freq_'+str(counter))\n",
    "        counter=counter+1\n",
    "    counter=1\n",
    "    for x in range(0,top):\n",
    "        name.append('chrom'+str(counter))\n",
    "        name.append('start'+str(counter))\n",
    "        name.append('end'+str(counter))\n",
    "        name.append('score'+str(counter))\n",
    "        counter=counter+1\n",
    "    return(name)"
   ]
  },
  {
   "cell_type": "code",
   "execution_count": 220,
   "metadata": {},
   "outputs": [],
   "source": [
    "hist_metadata=pd.read_csv('/nfs/research1/zerbino/jhidalgo/inteql_GTEX_v8/data/original-data/monocyte_data/ENCODE/Histone-Chip-seq/metadata.tsv',sep='\\t')"
   ]
  },
  {
   "cell_type": "code",
   "execution_count": 235,
   "metadata": {},
   "outputs": [],
   "source": [
    "hist_metadata=hist_metadata[hist_metadata.columns[hist_metadata.isna().all() == False]]"
   ]
  },
  {
   "cell_type": "code",
   "execution_count": 372,
   "metadata": {},
   "outputs": [
    {
     "name": "stderr",
     "output_type": "stream",
     "text": [
      "/homes/jhidalgo/.local/lib/python3.8/subprocess.py:849: RuntimeWarning: line buffering (buffering=1) isn't supported in binary mode, the default buffer size will be used\n",
      "  self.stderr = io.open(errread, 'rb', bufsize)\n",
      "/homes/jhidalgo/.local/lib/python3.8/subprocess.py:849: RuntimeWarning: line buffering (buffering=1) isn't supported in binary mode, the default buffer size will be used\n",
      "  self.stderr = io.open(errread, 'rb', bufsize)\n",
      "/homes/jhidalgo/.local/lib/python3.8/subprocess.py:849: RuntimeWarning: line buffering (buffering=1) isn't supported in binary mode, the default buffer size will be used\n",
      "  self.stderr = io.open(errread, 'rb', bufsize)\n",
      "/homes/jhidalgo/.local/lib/python3.8/subprocess.py:849: RuntimeWarning: line buffering (buffering=1) isn't supported in binary mode, the default buffer size will be used\n",
      "  self.stderr = io.open(errread, 'rb', bufsize)\n",
      "/homes/jhidalgo/.local/lib/python3.8/subprocess.py:849: RuntimeWarning: line buffering (buffering=1) isn't supported in binary mode, the default buffer size will be used\n",
      "  self.stderr = io.open(errread, 'rb', bufsize)\n",
      "/homes/jhidalgo/.local/lib/python3.8/subprocess.py:849: RuntimeWarning: line buffering (buffering=1) isn't supported in binary mode, the default buffer size will be used\n",
      "  self.stderr = io.open(errread, 'rb', bufsize)\n",
      "/homes/jhidalgo/.local/lib/python3.8/subprocess.py:849: RuntimeWarning: line buffering (buffering=1) isn't supported in binary mode, the default buffer size will be used\n",
      "  self.stderr = io.open(errread, 'rb', bufsize)\n"
     ]
    }
   ],
   "source": [
    "for histone in hist_metadata['Experiment target'].unique():\n",
    "    target=hist_metadata[hist_metadata['Experiment target'] == histone]\n",
    "    hist_data={}\n",
    "    for i in target.index:\n",
    "        url=target.loc[i]['File download URL']\n",
    "        hist_data[target.loc[i]['Experiment accession']]=pybedtools.BedTool.from_dataframe(pd.read_csv(url,sep='\\t',header=None,names=names_narrowPeak)[['chrom','chromStart','chromEnd','score']].sort_values(by=['chrom','chromStart']))\n",
    "    hist_inter=pybedtools.BedTool().multi_intersect(i=[hist_data[x].fn for x in hist_data.keys()])\n",
    "    for i in list(hist_data.keys()):\n",
    "        hist_inter=hist_inter.intersect(hist_data[i],wa=True,wb=True,loj=True)\n",
    "    output=hist_inter.to_dataframe(header=None,names=naming(len(hist_data)))\n",
    "    output=output[['chrom', 'start', 'end', 'freq']+list(output.columns[output.columns.str.startswith('score')])].replace('.',np.nan)\n",
    "    output[histone+'_score']=output[output.columns[output.columns.str.startswith('score')]].astype('float').mean(axis=1)\n",
    "    output=output.rename(columns={'freq':histone+'_freq'})[['chrom','start','end',histone+'_freq',histone+'_score']]\n",
    "    output.to_csv('/nfs/research1/zerbino/jhidalgo/inteql_GTEX_v8/data/processed_data/monocyte-ML-input/'+histone+'.bed',index=False,sep='\\t')\n",
    "        "
   ]
  },
  {
   "cell_type": "markdown",
   "metadata": {},
   "source": [
    "# HiC"
   ]
  },
  {
   "cell_type": "code",
   "execution_count": null,
   "metadata": {},
   "outputs": [],
   "source": []
  }
 ],
 "metadata": {
  "kernelspec": {
   "display_name": "Python 3",
   "language": "python",
   "name": "python3"
  },
  "language_info": {
   "codemirror_mode": {
    "name": "ipython",
    "version": 3
   },
   "file_extension": ".py",
   "mimetype": "text/x-python",
   "name": "python",
   "nbconvert_exporter": "python",
   "pygments_lexer": "ipython3",
   "version": "3.8.1"
  }
 },
 "nbformat": 4,
 "nbformat_minor": 4
}
