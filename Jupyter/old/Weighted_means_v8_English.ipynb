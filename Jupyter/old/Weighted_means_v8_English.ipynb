{
 "cells": [
  {
   "cell_type": "code",
   "execution_count": null,
   "metadata": {},
   "outputs": [],
   "source": [
    "# English algorithm version"
   ]
  },
  {
   "cell_type": "code",
   "execution_count": null,
   "metadata": {},
   "outputs": [],
   "source": [
    "###### Module Loading #######"
   ]
  },
  {
   "cell_type": "code",
   "execution_count": null,
   "metadata": {},
   "outputs": [],
   "source": [
    "Pandas, os, scipy and numpy modules are loaded."
   ]
  },
  {
   "cell_type": "code",
   "execution_count": null,
   "metadata": {},
   "outputs": [],
   "source": [
    "###### Move to working directory #######"
   ]
  },
  {
   "cell_type": "code",
   "execution_count": null,
   "metadata": {},
   "outputs": [],
   "source": [
    "set working directory '/nfs/research1/zerbino/jhidalgo/inteql_GTEX_v8/data/original-data/RNA-seq/'"
   ]
  },
  {
   "cell_type": "code",
   "execution_count": null,
   "metadata": {},
   "outputs": [],
   "source": [
    "###### Load GTEX sample metadata and sample names #######"
   ]
  },
  {
   "cell_type": "code",
   "execution_count": null,
   "metadata": {},
   "outputs": [],
   "source": [
    "load GTEX sample tissue attributes '/GTEx_Analysis_v8_Annotations_SampleAttributesDS.txt', columns='SAMPID','SMTS','SMTSD'"
   ]
  },
  {
   "cell_type": "code",
   "execution_count": null,
   "metadata": {},
   "outputs": [],
   "source": [
    "load sample name list from '../GTEx_Analysis_2017-06-05_v8_RSEMv1.3.0_transcript_tpm.gct.gz'"
   ]
  },
  {
   "cell_type": "code",
   "execution_count": null,
   "metadata": {},
   "outputs": [],
   "source": [
    "merge sample name and tissue attributes"
   ]
  },
  {
   "cell_type": "code",
   "execution_count": null,
   "metadata": {},
   "outputs": [],
   "source": [
    "unique_tissues list from GTEX attributes"
   ]
  },
  {
   "cell_type": "code",
   "execution_count": null,
   "metadata": {},
   "outputs": [],
   "source": [
    "###### Filter TPM file for transcripts with very low T test value for the different tissues #######\n",
    "\"\"\"\n",
    "GTEx_Analysis_2017-06-05_v8_RSEMv1.3.0_transcript_tpm.gct.gz is read chunk by chunk, for each line in the chunk\n",
    "a t-test is performed for each unique tissue. Transcripts with 1 to 3 transcript-tissue t-test values of 0 are\n",
    "forwarded to two new files:\n",
    "1) Top_T-test_GTEx_Analysis_2017-06-05_v8_RSEMv1.3.0_transcript_tpm.gct: Contains the raw TPM values as read.\n",
    "2) Binary_top_T-test_GTEx_Analysis_2017-06-05_v8_RSEMv1.3.0_transcript_tpm.gct: Contains the T-test values for \n",
    "    each tissue converted to 0 or 1 according to the values being under or over a threshold (0.0001 by default).\n",
    "\"\"\""
   ]
  },
  {
   "cell_type": "code",
   "execution_count": null,
   "metadata": {},
   "outputs": [],
   "source": [
    "#cols=samples of the same tissue type, notcols = samples of different tissue type\n",
    "\"cols\" and \"notcols\" = empty dictionary\n",
    "for each tissue, populate \"cols\" and \"notcols\" dictionaries\n",
    "\"count\" and \"added\" = 0, \"chunksize\" = 1000, and \"write_header\" = True"
   ]
  },
  {
   "cell_type": "code",
   "execution_count": null,
   "metadata": {
    "scrolled": true
   },
   "outputs": [],
   "source": [
    "read '../GTEx_Analysis_2017-06-05_v8_RSEMv1.3.0_transcript_tpm.gct.gz' in chunks of \"chunksize\", dropping 'gene_id' column\n",
    "for each chunk:\n",
    "    \"bin_output\" and \"output\" = empty df\n",
    "    for each transcript in chunk:\n",
    "        \"ttest\" = empty list\n",
    "        for each \"unique_tissues\"\n",
    "            append T-test pval for the tissue-transcript vs not_tissue-transcript to \"ttest\" list\n",
    "            if more than 3 tissues have DE, move to the next\n",
    "        if \"ttest\" has between 0 and 3 DE tissues:\n",
    "            add transcript to \"output\"\n",
    "            convert pvalues under 0.0001 and above 0 (WHY 0?) to 1, otherwise to 0 and add to \"bin_output\"\n",
    "            \n",
    "    if there is any \"output\": \n",
    "        export \"output\" 'Top_T-test_GTEx_Analysis_2017-06-05_v8_RSEMv1.3.0_transcript_tpm.gct'\n",
    "        and \"bin_output\" to 'Binary_top_T-test_GTEx_Analysis_2017-06-05_v8_RSEMv1.3.0_transcript_tpm.gct'\n",
    "    set write_header to False #Avoid exporting the header every chunk\n",
    "    \"count\"=\"count\" + \"chunksize\"\n",
    "    \"added\"=\"added\" + length of \"output\"\n",
    "    print summary"
   ]
  },
  {
   "cell_type": "code",
   "execution_count": null,
   "metadata": {},
   "outputs": [],
   "source": [
    "###### Load previous 2) output #######"
   ]
  },
  {
   "cell_type": "code",
   "execution_count": null,
   "metadata": {},
   "outputs": [],
   "source": [
    "bin_ttest = read 'Binary_top_T-test_GTEx_Analysis_2017-06-05_v8_RSEMv1.3.0_transcript_tpm.gct'"
   ]
  },
  {
   "cell_type": "code",
   "execution_count": null,
   "metadata": {},
   "outputs": [],
   "source": [
    "###### Transcript selection #######\n",
    "\"\"\"\n",
    "100 transcripts are selected for each tissue, an iterative selection is performed increasing the threshold\n",
    "(number of tissue with significant T-test value for the transcript). Transcripts with fewer total associations\n",
    "are selected first to maximise the tissue information each transcript can provide.\n",
    "\"\"\""
   ]
  },
  {
   "cell_type": "code",
   "execution_count": null,
   "metadata": {},
   "outputs": [],
   "source": [
    "\"data_selection\" = empty dict\n",
    "\"threshold\" = 1\n",
    "for \"tissue\" in \"bin_ttest\" columns:\n",
    "    while \"tissue\" not in \"data_selection\":\n",
    "        \"data\" = \"bin_ttest\" where sum of values between 0 and \"threshold\"\n",
    "        if length of \"data\" >= 100:\n",
    "            \"data_selection[tissue]\" = first 100 transcripts\n",
    "        if \"threshold\" == number of tissues: break\n",
    "        \"threshold\" = \"threshold\" + 1"
   ]
  },
  {
   "cell_type": "code",
   "execution_count": null,
   "metadata": {},
   "outputs": [],
   "source": [
    "\"index_selection\" = set of transcripts in \"data_selection\" "
   ]
  },
  {
   "cell_type": "code",
   "execution_count": null,
   "metadata": {},
   "outputs": [],
   "source": [
    "###### Read raw data for selected transcripts #######\n",
    "\"\"\"\n",
    "The complete list of transcripts is read from the previously exported 1) file, then index of the transcripts\n",
    "matching the selection is used to read only the raw values of the selected transcripts.\n",
    "\"\"\""
   ]
  },
  {
   "cell_type": "code",
   "execution_count": null,
   "metadata": {},
   "outputs": [],
   "source": [
    "\"transcripts\" = read 'Top_T-test_GTEx_Analysis_2017-06-05_v8_RSEMv1.3.0_transcript_tpm.gct'\n"
   ]
  },
  {
   "cell_type": "code",
   "execution_count": null,
   "metadata": {
    "scrolled": true
   },
   "outputs": [],
   "source": [
    "\"rows\" = \"transcripts\" index if in \"index_selection\""
   ]
  },
  {
   "cell_type": "code",
   "execution_count": null,
   "metadata": {},
   "outputs": [],
   "source": [
    "data = read 'Top_T-test_GTEx_Analysis_2017-06-05_v8_RSEMv1.3.0_transcript_tpm.gct' using \"rows\" index\n"
   ]
  },
  {
   "cell_type": "code",
   "execution_count": null,
   "metadata": {},
   "outputs": [],
   "source": [
    "###### HKG raw data #######\n",
    "\"\"\"\n",
    "REVIEW:\n",
    "Raw data for a published list of Housekeeping Genes is extracted from GTEX data. Transcripts with at least 1 TPM\n",
    "are filtered and the top 150 with less relative variation are selected.\n",
    "Publication:\n",
    "Wang, Z., Lyu, Z., Pan, L. et al. Defining housekeeping genes suitable for RNA-seq analysis of the human allograft kidney biopsy tissue. BMC Med Genomics 12, 86 (2019). https://doi.org/10.1186/s12920-019-0538-z\n",
    "\"\"\""
   ]
  },
  {
   "cell_type": "code",
   "execution_count": null,
   "metadata": {},
   "outputs": [],
   "source": [
    "#Dictionary of Housekeeping genes and ID\n",
    "\"HKG\" = {'ANAPC5':'ENSG00000089053','ANAPC15':'ENSG00000110200','ARID3B':'ENSG00000179361','ARL10':'ENSG00000175414','ATXN2':'ENSG00000204842','C3orf49':'ENSG00000163632','CCAR1':'ENSG00000060339','CCDC125':'ENSG00000277868','CCDC90B':'ENSG00000137500','CHFR':'ENSG00000072609','DHRSX':'ENSG00000169084','FRMD8':'ENSG00000126391','GGA1':'ENSG00000100083','HERC4':'ENSG00000148634','MKNK1':'ENSG00000079277','NASP':'ENSG00000132780','NME4':'ENSG00000103202','OTUB1':'ENSG00000167770','POLR2B':'ENSG00000047315','POLR3A':'ENSG00000148606','POMK':'ENSG00000185900','PSMA3-AS1':'ENSG00000257621','PTPN14':'ENSG00000152104','RAPGEF6':'ENSG00000158987','REL':'ENSG00000162924','RRP1':'ENSG00000160214','RUNDC1':'ENSG00000198863','SAMD4B':'ENSG00000179134','SLC4A1AP':'ENSG00000163798','SLMAP':'ENSG00000163681','SMARCAL1':'ENSG00000138375','SNAP29':'ENSG00000099940','SNRNP200':'ENSG00000144028','SUPT4H1':'ENSG00000213246','TBC1D22A':'ENSG00000054611','THUMPD3-AS1':'ENSG00000206573','TSPOAP1-AS1':'ENSG00000265148','TUBGCP2':'ENSG00000130640','WDTC1':'ENSG00000142784','ZNF544':'ENSG00000198131'}"
   ]
  },
  {
   "cell_type": "code",
   "execution_count": null,
   "metadata": {},
   "outputs": [],
   "source": [
    "\"count\"=0\n",
    "\"added\"=0\n",
    "\"write_header\"=True"
   ]
  },
  {
   "cell_type": "code",
   "execution_count": null,
   "metadata": {
    "scrolled": true
   },
   "outputs": [],
   "source": [
    "for chunk in read '../GTEx_Analysis_2017-06-05_v8_RSEMv1.3.0_transcript_tpm.gct.gz'\n",
    "    \"output\"=transcripts in chunk if gene_id in \"HKG\"\n",
    "    if \"output\" not empty: \n",
    "        \"output\" to 'HKG_GTEx_Analysis_2017-06-05_v8_RSEMv1.3.0_transcript_tpm.gct'\n",
    "        \"write_header\"=False\n",
    "    \"count\"=\"count\"+\"chunksize\"\n",
    "    \"added\"=\"added\"+length \"output\"\n",
    "    print summary"
   ]
  },
  {
   "cell_type": "code",
   "execution_count": null,
   "metadata": {},
   "outputs": [],
   "source": [
    "\"HKG_raw\" = read 'HKG_GTEx_Analysis_2017-06-05_v8_RSEMv1.3.0_transcript_tpm.gct'"
   ]
  },
  {
   "cell_type": "code",
   "execution_count": null,
   "metadata": {},
   "outputs": [],
   "source": [
    "\"HKG_top\" = \"HKG_raw\" where mean TPM > 1"
   ]
  },
  {
   "cell_type": "code",
   "execution_count": null,
   "metadata": {},
   "outputs": [],
   "source": [
    "\"HKG_top_rel_data\" = \"HKG_top\" / \"HKG_top\" mean"
   ]
  },
  {
   "cell_type": "code",
   "execution_count": null,
   "metadata": {},
   "outputs": [],
   "source": [
    "\"HKG_transc\" = \"HKG_top_rel_data\" 150 HKG transcripts with smallest STDEV"
   ]
  },
  {
   "cell_type": "code",
   "execution_count": null,
   "metadata": {},
   "outputs": [],
   "source": [
    "###### Normalize GTEX data #######\n",
    "\"\"\"\n",
    "Raw data for transcripts selected before are normalized by dividing raw TPM by the mean expression \n",
    "of the Housekeeping Genes filtered above for each sample.\n",
    "\"\"\""
   ]
  },
  {
   "cell_type": "code",
   "execution_count": null,
   "metadata": {},
   "outputs": [],
   "source": [
    "\"rel_data\" = \"data\" / mean \"HKG_raw\" where transcripts = \"HKG_transc\""
   ]
  },
  {
   "cell_type": "code",
   "execution_count": null,
   "metadata": {},
   "outputs": [],
   "source": [
    "\"data\" = merge \"samples\" with \"rel_data\""
   ]
  },
  {
   "cell_type": "code",
   "execution_count": null,
   "metadata": {},
   "outputs": [],
   "source": [
    "\"data\" to 'Normalised_data_for_prediction.csv.gz'"
   ]
  },
  {
   "cell_type": "code",
   "execution_count": null,
   "metadata": {},
   "outputs": [],
   "source": [
    "data = read 'Normalised_data_for_prediction.csv.gz' # In case of notebook killed, data can be restored"
   ]
  },
  {
   "cell_type": "code",
   "execution_count": null,
   "metadata": {},
   "outputs": [],
   "source": [
    "\"reindex_data\" = \"data\" with new index"
   ]
  },
  {
   "cell_type": "code",
   "execution_count": null,
   "metadata": {},
   "outputs": [],
   "source": [
    "###### Identify significant (DE) transcripts for each tissue #######\n",
    "\"\"\"\n",
    "A T-test is used to assess the p-value of the expression of every transcript of being differentially expressed\n",
    "for every tissue. If the p-value falls under a certain threshold, the transcripts is considered to have a DE\n",
    "for such tissue. This section is currently not necessary to run the whole script!\n",
    "\"\"\""
   ]
  },
  {
   "cell_type": "code",
   "execution_count": null,
   "metadata": {},
   "outputs": [],
   "source": [
    "\"significant\" = {}"
   ]
  },
  {
   "cell_type": "code",
   "execution_count": null,
   "metadata": {},
   "outputs": [],
   "source": [
    "for \"Tissue\" in data.index.unique(): significant[Tissue]=[]"
   ]
  },
  {
   "cell_type": "code",
   "execution_count": null,
   "metadata": {},
   "outputs": [],
   "source": [
    "for transcripts in \"data\":\n",
    "    for Tissue in \"data\":\n",
    "        \"ttest\" = ttest_ind (scipy) of \"data[Transc][Tissue]\" against \"data[Transc][data != Tissue]\"\n",
    "        if \"ttest\" pvalue <= 0.00001:\n",
    "            append transcripts to \"significant[Tissue]\""
   ]
  },
  {
   "cell_type": "code",
   "execution_count": null,
   "metadata": {},
   "outputs": [],
   "source": [
    "####### Calculate ratio of success for each transcript for each tissue #######\n",
    "\"\"\"\n",
    "For each tissue type a T-test is used to assess the p-value of that transcript of being differentially \n",
    "expressed in that tissue. If so, for each sample of the same tissue a two-sided t-test is used to obtain\n",
    "the p-value of the sample expression of belonging to a normal distribution of the whole tissue-transcript\n",
    "expression. If the p-value falls under a certain threshold, that sample is considered to be successfully\n",
    "associated to the rest of samples of the same tissue, otherwise if the p-value is above the threshold\n",
    "that sample is considered to fail to associate to the rest of samples of the same tissue. After testing \n",
    "all samples, sucesses and fails are used as a score of how likely a DE expressed transcript would have a\n",
    "significant expression in one sample of a specific tissue.\n",
    "\"\"\""
   ]
  },
  {
   "cell_type": "code",
   "execution_count": null,
   "metadata": {},
   "outputs": [],
   "source": [
    "\"fails\"={}\n",
    "\"success\"={}\n",
    "\"ratio\"={}"
   ]
  },
  {
   "cell_type": "code",
   "execution_count": null,
   "metadata": {},
   "outputs": [],
   "source": [
    "\"len_tran\"=length \"data\" columns #Number of transcripts in data\n",
    "for Tissue in \"data\":\n",
    "    print Tissue\n",
    "    \"fails[Tissue]\"=[]\n",
    "    \"success[Tissue]\"=[]\n",
    "    \"ratio[Tissue]\"={}\n",
    "    for Transcript in \"data\":\n",
    "        \"ttest_tissue\" = ttest_ind (scipy) of \"data[Transc][Tissue]\" against \"data[Transc][data != Tissue]\"\n",
    "        if \"ttest_tissue\" pvalue <= 0.00001:\n",
    "            for sample in data:\n",
    "                \"ttest_sample\" = stats.ttest_1samp (scipy) of \"data[Tissue][Transcript]\" against \"data.iloc[sample][Transcript]\"\n",
    "                if \"ttest_sample\" pvalue <= 0.0001: append Transcript to \"success[Tissue]\"\n",
    "                elif \"ttest_sample\" pvalue >= 0.0001: append Transcript to \"fails[Tissue]\"\n",
    "                if \"data[Transc][Tissue]\" expression == 0 and \"sample[Transc]\" expression == 0: append Transcript to \"success[Tissue]\" #T-test can't be performed if expression = 0\n",
    "                if \"data[Transc][Tissue]\" expression == 0 and \"sample[Transc]\" expression != 0: append Transcript to \"fails[Tissue]\" #T-test can't be performed if expression = 0\n",
    "            \"ratio[Tissue][Transc]\" = ratio of transcript success / failure for Tissue\n",
    "        else: \"ratio[Tissue][Transc]\" = NaN # If p-value above 0.00001, no ratio\n",
    "    print summary"
   ]
  },
  {
   "cell_type": "code",
   "execution_count": null,
   "metadata": {},
   "outputs": [],
   "source": [
    "\"ratiodata\" = DataFrame of \"ratio\""
   ]
  },
  {
   "cell_type": "code",
   "execution_count": null,
   "metadata": {},
   "outputs": [],
   "source": [
    "\"ratiodata\" to 'Ratiodata_v8.csv'"
   ]
  },
  {
   "cell_type": "code",
   "execution_count": null,
   "metadata": {},
   "outputs": [],
   "source": [
    "\"ratiodata\" = read 'Ratiodata_v8.csv'"
   ]
  },
  {
   "cell_type": "code",
   "execution_count": null,
   "metadata": {},
   "outputs": [],
   "source": [
    "# Only transcripts with a high score are used.\n",
    "for every data in \"ratiodata\", if <=0.7: turn into NaN"
   ]
  },
  {
   "cell_type": "code",
   "execution_count": null,
   "metadata": {},
   "outputs": [],
   "source": [
    "# To avoid transcripts associated to multiple tissues being over-informative, a relative score of each \n",
    "# transcript-tissue association can be used insted.\n",
    "\"rel_ratiodata\"= \"ratiodata\" / \"ratiodata\" sum"
   ]
  },
  {
   "cell_type": "code",
   "execution_count": null,
   "metadata": {},
   "outputs": [],
   "source": [
    "####### Transcript-tissue scoring function ######\n",
    "\"\"\"\n",
    "A simple sample relative expression set is passed to this function. For each transcript selected previously, \n",
    "a T-test is performed to obtain the p-value of the expression of such transcript in the sample to belong to \n",
    "the expression pattern of each tissue. If the p-value falls under a certain threshold, the combination \n",
    "transcript-tissue gets a scoring equal to the ratio of success of such transcript for that tissue as calculated \n",
    "above. The list of transcript-tissue scores is returned to calculate the weights.\n",
    "\"\"\""
   ]
  },
  {
   "cell_type": "code",
   "execution_count": null,
   "metadata": {},
   "outputs": [],
   "source": [
    "\"t_test_ratio_external\" function given sample \"i\":\n",
    "    \"value\"={}\n",
    "    for Transcript in \"data\":\n",
    "        \"value[Transc]\"={}\n",
    "        for Tissue in \"data\":\n",
    "            \"ttest_sample\"= stats.ttest_1samp (scipy) of \"data[Transc][Tissue]\" against \"i[Transc]\"\n",
    "            \"value[Transc][Tissue]\"=NaN\n",
    "            if \"ttest_sample\" pvalue >= 0.0001: \"value[Transc][Tissue]\" = \"ratiodata[Transc][Tissue]\"\n",
    "    return \"value\""
   ]
  },
  {
   "cell_type": "code",
   "execution_count": null,
   "metadata": {},
   "outputs": [],
   "source": [
    "##### LOAD eQTLs #######\n",
    "\"\"\"\n",
    "Pre-finemapped eQTLs from GTEX database are loaded to make predictions based on attributed weights for each tissue.\n",
    "Only CaVEMaN dataset is being used here although a consensus dataset is recommended.\n",
    "\"\"\""
   ]
  },
  {
   "cell_type": "code",
   "execution_count": null,
   "metadata": {},
   "outputs": [],
   "source": [
    "\"eQTLs\" read 'GTEx_v8_finemapping_CaVEMaN.txt.gz'"
   ]
  },
  {
   "cell_type": "code",
   "execution_count": null,
   "metadata": {},
   "outputs": [],
   "source": [
    "\"eQTLs\" = \"eQTLs\" pivot table with index=['eQTL','GENE'] columns='TISSUE' and values='Probability'"
   ]
  },
  {
   "cell_type": "code",
   "execution_count": null,
   "metadata": {},
   "outputs": [],
   "source": [
    "##### Tissue name link #######\n",
    "\"\"\"\n",
    "Since tissue names differ, specially in format, in eQTL and expression data, a dictionary of corresponding names\n",
    "is used to match both names when scoring.\n",
    "\"\"\""
   ]
  },
  {
   "cell_type": "code",
   "execution_count": null,
   "metadata": {},
   "outputs": [],
   "source": [
    "\"tissues_common\"={}\n",
    "for Tissue in \"data\":\n",
    "    if Tissue in \"eQTLs\":\n",
    "        \"tissues_common[b]\"= Tissue\n",
    "    else:\n",
    "        if Tissue with str replacements in \"eQTLs\":\n",
    "            \"tissues_common[Tissue]\" = Tissue with str replacements\n",
    "        else:\n",
    "            print warning"
   ]
  },
  {
   "cell_type": "code",
   "execution_count": null,
   "metadata": {},
   "outputs": [],
   "source": [
    "\"tissues_common_inv\" = reverse dictionary of \"tissues_common\""
   ]
  },
  {
   "cell_type": "code",
   "execution_count": null,
   "metadata": {},
   "outputs": [],
   "source": [
    "###### Prediction on the mean RNA-seq value per tissue #######\n",
    "\"\"\"\n",
    "To test the scoring system, optimal-conditions samples are obtain with the mean transcript expression for each\n",
    "tissue. This mean-sample should align much better to eQTL values than single samples randomly obtain from the dataset.\n",
    "\"\"\""
   ]
  },
  {
   "cell_type": "code",
   "execution_count": null,
   "metadata": {},
   "outputs": [],
   "source": [
    "\"tissue_means\"= \"data\" mean grouped by Tissue"
   ]
  },
  {
   "cell_type": "code",
   "execution_count": null,
   "metadata": {},
   "outputs": [],
   "source": [
    "####### Prediction and eQTL comparison for each mean RNA-seq value ######\n",
    "\"\"\"\n",
    "Each mean-expression sample is used as a target for weighted means prediction and compared to simple mean\n",
    "prediction and to real eQTL value for that tissue.\n",
    "\"\"\""
   ]
  },
  {
   "cell_type": "code",
   "execution_count": null,
   "metadata": {},
   "outputs": [],
   "source": [
    "\"prediction\"={}\n",
    "\"real\"={}\n",
    "\"mean_prediction\"={}\n",
    "### a = renamed eQTLs to match RNAseq names\n",
    "\"a\" =  \"eQTLs\" with renamed Tissue names\n",
    "for Tissue in \"tissues_common\":\n",
    "    \"test\"=t_test_ratio_external (function) of mean-expression sample of Tissue\n",
    "    \"b\" = tissue scores from \"test\" \n",
    "    \"b_where_a\" = scores from \"b\" where \"eQTLs\" has value for such transcript\n",
    "    \"b_where_a_sum\" = \"b_where_a\" sum (sum of scores)\n",
    "    \"prediction[Tissue]\" = sum of (\"eQTLs\" multiplied by (\"b_where_a\" divided by \"b_where_a_sum\")) # sum of eQTL values multiplied by scores divided by sum of scores\n",
    "    \"real[Tissue]\" = \"eQTLs\" value for Tissue\n",
    "    \"mean_prediction[Tissue]\" = \"eQTLs\" mean"
   ]
  },
  {
   "cell_type": "code",
   "execution_count": null,
   "metadata": {},
   "outputs": [],
   "source": [
    "\"Melted_results\"= concatenated Real, Mean and Predicted results and melted into single transcript-SNP values"
   ]
  },
  {
   "cell_type": "code",
   "execution_count": null,
   "metadata": {},
   "outputs": [],
   "source": [
    "\"Melted_results\" to 'Results_to_plot_2307.csv'"
   ]
  },
  {
   "cell_type": "code",
   "execution_count": null,
   "metadata": {},
   "outputs": [],
   "source": [
    "###### Perform predictions on random RNA-seq samples and check performance per tissue #######"
   ]
  },
  {
   "cell_type": "code",
   "execution_count": null,
   "metadata": {},
   "outputs": [],
   "source": [
    "\"a\" = renamed \"eQTLs\"\n",
    "\"mean_ratio\"=[]\n",
    "\"pred_ratio\"=[]\n",
    "\"slope\"=[]\n",
    "\"weighted_predicted\"=[]\n",
    "\"mean_predicted\"=[]\n",
    "\"tissue\"=[]\n",
    "\"count\"=0\n",
    "while \"count\" < 1000:\n",
    "    for sample in \"data\":\n",
    "        if sample tissue in \"tissues_common\":\n",
    "            if \"eQTLs\" value for tissue and sample:\n",
    "                \"test\" = t_test_ratio_external (function) of sample\n",
    "                \"b\" = tissue scores from \"test\" \n",
    "                \"b_where_a\" = scores from \"b\" where \"eQTLs\" has value for such transcript\n",
    "                \"b_where_a_sum\" = \"b_where_a\" sum (sum of scores)\n",
    "                \"prediction\" = \"eQTLs\" multiplied by (\"b_where_a\" divided by \"b_where_a_sum\") # eQTL values multiplied by scores divided by sum of scores\n",
    "                \"real\" = \"eQTLs\" value for Tissue\n",
    "                \"mean_prediction\" = \"eQTLs\" mean\n",
    "                if \"mean_prediction\" is NaN: skip \n",
    "                print ratios\n",
    "                \"mean_ratio\" append \"real\"/\"mean_prediction\"\n",
    "                \"pred_ratio\" append \"real\"/\"prediction\"\n",
    "                \"slope\" append \"real\"\n",
    "                \"weighted_predicted\" append \"prediction\"\n",
    "                \"mean_predicted\" append \"mean_prediction\"\n",
    "                \"tissue\" append sample tissue\n",
    "                \"count\"=\"count\"+1"
   ]
  },
  {
   "cell_type": "code",
   "execution_count": null,
   "metadata": {},
   "outputs": [],
   "source": [
    "Results_means.merge(pd.DataFrame(ratiodata.count(axis=1),columns=['Sig Transc']),how='left',left_index=True,right_index=True).merge(pd.DataFrame((ratiodata/ratiodata.sum()).mean(axis=1),columns=['Mean sig transc score']),how='left',left_index=True,right_index=True).to_csv('Results_to_plot_2307.csv',index=True)"
   ]
  }
 ],
 "metadata": {
  "kernelspec": {
   "display_name": "Python 3",
   "language": "python",
   "name": "python3"
  },
  "language_info": {
   "codemirror_mode": {
    "name": "ipython",
    "version": 3
   },
   "file_extension": ".py",
   "mimetype": "text/x-python",
   "name": "python",
   "nbconvert_exporter": "python",
   "pygments_lexer": "ipython3",
   "version": "3.8.1"
  }
 },
 "nbformat": 4,
 "nbformat_minor": 4
}
